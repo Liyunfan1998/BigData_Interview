{
 "cells": [
  {
   "cell_type": "code",
   "execution_count": 1,
   "metadata": {
    "collapsed": true
   },
   "outputs": [],
   "source": [
    "import numpy as np\n",
    "import sys\n",
    "from sklearn.ensemble import GradientBoostingRegressor\n",
    "gbdt=GradientBoostingRegressor(\n",
    "  loss='ls'\n",
    ", learning_rate=0.1\n",
    ", n_estimators=100\n",
    ", subsample=1\n",
    ", min_samples_split=2\n",
    ", min_samples_leaf=1\n",
    ", max_depth=5\n",
    ", init=None\n",
    ", random_state=None\n",
    ", max_features=None\n",
    ", alpha=0.9\n",
    ", verbose=0\n",
    ", max_leaf_nodes=None\n",
    ", warm_start=False\n",
    ")"
   ]
  },
  {
   "cell_type": "code",
   "execution_count": 2,
   "metadata": {
    "collapsed": true
   },
   "outputs": [],
   "source": [
    "train_feat=np.genfromtxt(\"train_feat.txt\",dtype=np.float32)\n",
    "train_id=np.genfromtxt(\"train_id.txt\",dtype=np.float32)\n",
    "test_feat=np.genfromtxt(\"test_feat.txt\",dtype=np.float32)\n",
    "test_id=np.genfromtxt(\"test_id.txt\",dtype=np.float32)\n"
   ]
  },
  {
   "cell_type": "code",
   "execution_count": 3,
   "metadata": {
    "collapsed": true
   },
   "outputs": [],
   "source": [
    "train_feat.reshape(690,19);\n",
    "train_id.reshape(690,1);\n",
    "test_feat.reshape(32,19);\n",
    "test_id.reshape(32,1);"
   ]
  },
  {
   "cell_type": "code",
   "execution_count": 4,
   "metadata": {},
   "outputs": [
    {
     "name": "stdout",
     "output_type": "stream",
     "text": [
      "(690, 19) (690,) (31, 19) (31,)\n"
     ]
    }
   ],
   "source": [
    "print (train_feat.shape,train_id.shape,test_feat.shape,test_id.shape)\n",
    "gbdt.fit(train_feat,train_id)\n",
    "pred=gbdt.predict(test_feat)"
   ]
  },
  {
   "cell_type": "code",
   "execution_count": 5,
   "metadata": {},
   "outputs": [
    {
     "data": {
      "text/plain": [
       "array([  9.50264463e+01,   5.74040426e+01,   3.19441071e+00,\n",
       "         1.80004036e+01,   5.14597621e+00,  -2.36824943e+01,\n",
       "         3.68431439e+01,   2.29116316e+01,   1.19788781e+03,\n",
       "         5.16985293e+01,  -4.66255233e+00,   3.85815939e+01,\n",
       "        -1.11012935e+01,  -9.22238396e+00,   1.99735298e+01,\n",
       "         2.04446655e+00,   4.99781555e+00,  -4.66845809e-01,\n",
       "         2.80556180e+01,   1.27666563e+01,   1.60806270e+01,\n",
       "         7.47319011e+00,   6.86894712e+00,   2.53887362e+02,\n",
       "        -1.93903168e+00,   8.79943765e+00,   3.92989283e+00,\n",
       "        -2.19287363e+01,   4.24164264e+00,   7.30423274e+00,\n",
       "         1.41868776e+01])"
      ]
     },
     "execution_count": 5,
     "metadata": {},
     "output_type": "execute_result"
    }
   ],
   "source": [
    "pred"
   ]
  },
  {
   "cell_type": "code",
   "execution_count": null,
   "metadata": {
    "collapsed": true
   },
   "outputs": [],
   "source": [
    "total_err=0\n",
    "shape0 = pred.shape[0]\n",
    "for i in range(pred.shape[0]):\n",
    "    print(pred[i],test_id[i])\n",
    "    if test_id[i]==0:\n",
    "        shape0-=1\n",
    "        print(\"#0,continue\")\n",
    "        continue\n",
    "    err=(pred[i]-test_id[i])/test_id[i]\n",
    "    total_err+=err*err\n",
    "print(\"#############################\")\n",
    "print (pred.shape)\n",
    "# print (total_err/pred.shape[1])\n",
    "print (total_err/shape0)"
   ]
  }
 ],
 "metadata": {
  "kernelspec": {
   "display_name": "conda env tensorflow",
   "language": "python",
   "name": "tensorflow"
  },
  "language_info": {
   "codemirror_mode": {
    "name": "ipython",
    "version": 3
   },
   "file_extension": ".py",
   "mimetype": "text/x-python",
   "name": "python",
   "nbconvert_exporter": "python",
   "pygments_lexer": "ipython3",
   "version": "3.6.2"
  }
 },
 "nbformat": 4,
 "nbformat_minor": 2
}
