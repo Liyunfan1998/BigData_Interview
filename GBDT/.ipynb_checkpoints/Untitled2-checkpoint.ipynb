{
 "cells": [
  {
   "cell_type": "code",
   "execution_count": 10,
   "metadata": {
    "collapsed": true
   },
   "outputs": [],
   "source": [
    "import numpy as np\n",
    "import sys\n",
    "from sklearn.ensemble import GradientBoostingRegressor\n",
    "gbdt=GradientBoostingRegressor(\n",
    "  loss='ls'\n",
    ", learning_rate=0.1\n",
    ", n_estimators=100\n",
    ", subsample=1\n",
    ", min_samples_split=2\n",
    ", min_samples_leaf=1\n",
    ", max_depth=5\n",
    ", init=None\n",
    ", random_state=None\n",
    ", max_features=None\n",
    ", alpha=0.9\n",
    ", verbose=0\n",
    ", max_leaf_nodes=None\n",
    ", warm_start=False\n",
    ")"
   ]
  },
  {
   "cell_type": "code",
   "execution_count": 11,
   "metadata": {
    "collapsed": true
   },
   "outputs": [],
   "source": [
    "train_feat=np.genfromtxt(\"train_feat.txt\",dtype=np.float32)\n",
    "train_id=np.genfromtxt(\"train_id.txt\",dtype=np.float32)\n",
    "test_feat=np.genfromtxt(\"test_feat.txt\",dtype=np.float32)\n",
    "test_id=np.genfromtxt(\"test_id.txt\",dtype=np.float32)\n"
   ]
  },
  {
   "cell_type": "code",
   "execution_count": 12,
   "metadata": {},
   "outputs": [],
   "source": [
    "train_feat.reshape(690,19);\n",
    "train_id.reshape(690,1);\n",
    "test_feat.reshape(33,19);\n",
    "test_id.reshape(33,1);"
   ]
  },
  {
   "cell_type": "code",
   "execution_count": 13,
   "metadata": {},
   "outputs": [
    {
     "name": "stdout",
     "output_type": "stream",
     "text": [
      "(690, 19) (690,) (33, 19) (33,)\n"
     ]
    }
   ],
   "source": [
    "print (train_feat.shape,train_id.shape,test_feat.shape,test_id.shape)\n",
    "gbdt.fit(train_feat,train_id)\n",
    "pred=gbdt.predict(test_feat)"
   ]
  },
  {
   "cell_type": "code",
   "execution_count": 14,
   "metadata": {},
   "outputs": [
    {
     "data": {
      "text/plain": [
       "array([  9.50264463e+01,   5.74040426e+01,   5.23901526e+00,\n",
       "         2.00450082e+01,   5.74005027e+00,  -2.36824943e+01,\n",
       "         3.68431439e+01,   2.29116316e+01,   1.24151421e+03,\n",
       "         5.17659680e+01,  -6.31351922e+00,   3.85815939e+01,\n",
       "        -1.11012935e+01,  -9.22238396e+00,   1.99735298e+01,\n",
       "         2.04446655e+00,   5.31255944e+00,  -4.66845809e-01,\n",
       "         2.80556180e+01,   1.27666563e+01,   1.60806270e+01,\n",
       "         9.51779466e+00,   7.18369101e+00,   2.49295026e+02,\n",
       "         1.05572873e-01,   8.79943765e+00,   3.92989283e+00,\n",
       "        -2.19287363e+01,   4.24164264e+00,   5.65326585e+00,\n",
       "         1.45805152e+01,   3.48283239e+01,   1.24151421e+03])"
      ]
     },
     "execution_count": 14,
     "metadata": {},
     "output_type": "execute_result"
    }
   ],
   "source": [
    "pred"
   ]
  },
  {
   "cell_type": "code",
   "execution_count": 15,
   "metadata": {},
   "outputs": [
    {
     "name": "stdout",
     "output_type": "stream",
     "text": [
      "95.0264462907 163.0\n",
      "57.4040426091 70.0\n",
      "5.23901525612 12.0\n",
      "20.0450081956 22.0\n",
      "5.74005027378 0.0\n",
      "#0,continue\n",
      "-23.6824942779 0.0\n",
      "#0,continue\n",
      "36.8431439185 59.0\n",
      "22.9116316232 29.0\n",
      "1241.51421192 929.0\n",
      "51.7659679687 0.0\n",
      "#0,continue\n",
      "-6.31351922439 0.0\n",
      "#0,continue\n",
      "38.5815939293 44.0\n",
      "-11.1012935438 0.0\n",
      "#0,continue\n",
      "-9.22238395805 0.0\n",
      "#0,continue\n",
      "19.9735297711 18.0\n",
      "2.04446655038 0.0\n",
      "#0,continue\n",
      "5.3125594394 0.0\n",
      "#0,continue\n",
      "-0.466845808837 0.0\n",
      "#0,continue\n",
      "28.0556179826 21.0\n",
      "12.7666562856 16.0\n",
      "16.0806269606 0.0\n",
      "#0,continue\n",
      "9.51779465766 14.0\n",
      "7.18369100951 16.0\n",
      "249.295026162 352.0\n",
      "0.10557287347 0.0\n",
      "#0,continue\n",
      "8.7994376538 18.0\n",
      "3.92989283249 0.0\n",
      "#0,continue\n",
      "-21.9287362796 0.0\n",
      "#0,continue\n",
      "4.24164264114 0.0\n",
      "#0,continue\n",
      "5.65326584728 0.0\n",
      "#0,continue\n",
      "14.5805152301 0.0\n",
      "#0,continue\n",
      "34.828323879 0.0\n",
      "#0,continue\n",
      "1241.51421192 0.0\n",
      "#0,continue\n",
      "#############################\n",
      "(33,)\n",
      "0.117554373264\n"
     ]
    }
   ],
   "source": [
    "total_err=0\n",
    "shape0 = pred.shape[0]\n",
    "for i in range(pred.shape[0]):\n",
    "    print(pred[i],test_id[i])\n",
    "    if test_id[i]==0:\n",
    "        shape0-=1\n",
    "        print(\"#0,continue\")\n",
    "        continue\n",
    "    err=(pred[i]-test_id[i])/test_id[i]\n",
    "    total_err+=err*err\n",
    "print(\"#############################\")\n",
    "print (pred.shape)\n",
    "# print (total_err/pred.shape[1])\n",
    "print (total_err/shape0)"
   ]
  }
 ],
 "metadata": {
  "kernelspec": {
   "display_name": "conda env tensorflow",
   "language": "python",
   "name": "tensorflow"
  },
  "language_info": {
   "codemirror_mode": {
    "name": "ipython",
    "version": 3
   },
   "file_extension": ".py",
   "mimetype": "text/x-python",
   "name": "python",
   "nbconvert_exporter": "python",
   "pygments_lexer": "ipython3",
   "version": "3.6.2"
  }
 },
 "nbformat": 4,
 "nbformat_minor": 2
}
